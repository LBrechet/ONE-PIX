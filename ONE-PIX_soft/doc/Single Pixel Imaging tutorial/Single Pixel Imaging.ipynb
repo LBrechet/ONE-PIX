{
 "cells": [
  {
   "attachments": {},
   "cell_type": "markdown",
   "id": "2e6bd0f3",
   "metadata": {},
   "source": [
    "# Single Pixel Imaging theory\n",
    "\n",
    "\n",
    "## General formulation\n",
    "\n",
    "Single pixel imaging enables one to reproduce a parsimonious under-sampled image of a scene using a single detector and several acquisitions. For each measurement, a specific pattern is projected onto a scene and an associated spectral coefficient is acquired.\n",
    "\n",
    "A measurement, $ m_{k} \\in \\mathbb{R}_{+} $ (photon counts), of a scene, $ S \\in \\mathbb{R}_{M \\times N}$, of height M and width N can be expressed as a function of the integration time of the detector,$\\Delta t$ (s), where the power is emitted by the source, $\\phi_{0} $(photons counts/s), a $p_{k} \\in \\mathbb{R}_{M \\times N}$, and the dark current of the detector, D (photons/s), such that:\n",
    "\n",
    "$$\n",
    "m_{k}=\\Delta t \\cdot (\\phi_{0} \\cdot p_{k}^{t}\\cdot S+D)\n",
    "$$\n",
    "\n",
    "\n",
    "Three examples of patterns from distinct bases are represented below:\n\n",
    "![patterns](patterns_examples.png \"attachment\")\n",
    "\n",
    "## Fourier basis\n",
    "\n",
    "In a coordinate system (𝑥, 𝑦) a scene 𝑆 is analysable in the spatial frequency domain (𝑢, 𝑣)  using its two-dimensional Fourier transform $\\hat{S}$ such that:\n",
    "\n",
    "$$\n",
    "\\hat{S}(u,v)=\\int_{x=-\\infty}^{+\\infty}\\int_{y=-\\infty}^{+\\infty} S(x,y)\\cdot e^{-2i\\pi \\cdot(xu+yv)}dxdy\n",
    "$$\n",
    "\n",
    "\n",
    "This duality in 2D space is represented below:\n",
    "\n",
    "![FFT2](fft2.png \"attachment\")\n",
    "\n",
    "Numerically, this relationship can be decomposed into two double sums such that:\n",
    "\n",
    "$$\n",
    "\\hat{S}(u,v)=\\sum_{x=0}^{M}\\sum_{y=0}^{N} S(x,y)\\cdot cos\\Big(2\\pi \\cdot\\big(\\frac{xu}{M}+\\frac{yv}{N}\\big)\\Big) -i\\cdot \\sum_{x=0}^{M}\\sum_{y=0}^{N} S(x,y)\\cdot sin\\Big(2\\pi \\cdot\\big(\\frac{xu}{M}+\\frac{yv}{N}\\big)\\Big)\n",
    "$$\n",
    "\n",
    "This relationship is reflected in the fact that a Fourier spectrum is reconstructable after projections of a series of real patterns (represented by the cosine) and a series of imaginary patterns (represented by the sine).\n",
    "\n",
    "This double projection is compensated by the conjugate symmetry property of the Fourier transform. It is then only necessary to measure the values of a half spectrum in order to deduce the entirety:\n\n\n",
    "![SegmentLocal](FourierSPI.gif \"segment\")"
   ]
  }
 ],
 "metadata": {
  "kernelspec": {
   "display_name": "Python 3 (ipykernel)",
   "language": "python",
   "name": "python3"
  },
  "language_info": {
   "codemirror_mode": {
    "name": "ipython",
    "version": 3
   },
   "file_extension": ".py",
   "mimetype": "text/x-python",
   "name": "python",
   "nbconvert_exporter": "python",
   "pygments_lexer": "ipython3",
   "version": "3.9.7"
  }
 },
 "nbformat": 4,
 "nbformat_minor": 5
}
